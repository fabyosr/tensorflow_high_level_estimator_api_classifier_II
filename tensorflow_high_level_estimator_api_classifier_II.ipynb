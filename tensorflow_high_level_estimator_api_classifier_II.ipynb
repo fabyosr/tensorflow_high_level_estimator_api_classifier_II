{
 "cells": [
  {
   "cell_type": "markdown",
   "metadata": {},
   "source": [
    "# Dense Neural Network Classifier Model using Tensorflow with High Level Estimators."
   ]
  },
  {
   "cell_type": "markdown",
   "metadata": {},
   "source": [
    "# 0 - IMPORTS"
   ]
  },
  {
   "cell_type": "code",
   "execution_count": 88,
   "metadata": {
    "ExecuteTime": {
     "end_time": "2020-12-10T21:14:11.975455Z",
     "start_time": "2020-12-10T21:14:11.842743Z"
    }
   },
   "outputs": [],
   "source": [
    "import math\n",
    "import pandas as pd\n",
    "import numpy as np\n",
    "import matplotlib.pyplot as plt\n",
    "import tensorflow as tf\n",
    "import warnings\n",
    "\n",
    "from sklearn.model_selection import train_test_split\n",
    "from sklearn.metrics import accuracy_score, confusion_matrix\n",
    "from sklearn.preprocessing import StandardScaler \n",
    "\n",
    "%matplotlib inline\n",
    "warnings.filterwarnings('ignore')"
   ]
  },
  {
   "cell_type": "markdown",
   "metadata": {
    "heading_collapsed": true
   },
   "source": [
    "# 1 - DATA LOAD"
   ]
  },
  {
   "cell_type": "code",
   "execution_count": 4,
   "metadata": {
    "ExecuteTime": {
     "end_time": "2020-12-10T14:57:30.300180Z",
     "start_time": "2020-12-10T14:57:30.215585Z"
    },
    "hidden": true
   },
   "outputs": [
    {
     "name": "stdout",
     "output_type": "stream",
     "text": [
      "Rows: 32561\n",
      "Cols: 15\n"
     ]
    },
    {
     "data": {
      "text/html": [
       "<div>\n",
       "<style scoped>\n",
       "    .dataframe tbody tr th:only-of-type {\n",
       "        vertical-align: middle;\n",
       "    }\n",
       "\n",
       "    .dataframe tbody tr th {\n",
       "        vertical-align: top;\n",
       "    }\n",
       "\n",
       "    .dataframe thead th {\n",
       "        text-align: right;\n",
       "    }\n",
       "</style>\n",
       "<table border=\"1\" class=\"dataframe\">\n",
       "  <thead>\n",
       "    <tr style=\"text-align: right;\">\n",
       "      <th></th>\n",
       "      <th>age</th>\n",
       "      <th>workclass</th>\n",
       "      <th>final-weight</th>\n",
       "      <th>education</th>\n",
       "      <th>education-num</th>\n",
       "      <th>marital-status</th>\n",
       "      <th>occupation</th>\n",
       "      <th>relationship</th>\n",
       "      <th>race</th>\n",
       "      <th>sex</th>\n",
       "      <th>capital-gain</th>\n",
       "      <th>capital-loos</th>\n",
       "      <th>hour-per-week</th>\n",
       "      <th>native-country</th>\n",
       "      <th>income</th>\n",
       "    </tr>\n",
       "  </thead>\n",
       "  <tbody>\n",
       "    <tr>\n",
       "      <th>0</th>\n",
       "      <td>39</td>\n",
       "      <td>State-gov</td>\n",
       "      <td>77516</td>\n",
       "      <td>Bachelors</td>\n",
       "      <td>13</td>\n",
       "      <td>Never-married</td>\n",
       "      <td>Adm-clerical</td>\n",
       "      <td>Not-in-family</td>\n",
       "      <td>White</td>\n",
       "      <td>Male</td>\n",
       "      <td>2174</td>\n",
       "      <td>0</td>\n",
       "      <td>40</td>\n",
       "      <td>United-States</td>\n",
       "      <td>&lt;=50K</td>\n",
       "    </tr>\n",
       "    <tr>\n",
       "      <th>1</th>\n",
       "      <td>50</td>\n",
       "      <td>Self-emp-not-inc</td>\n",
       "      <td>83311</td>\n",
       "      <td>Bachelors</td>\n",
       "      <td>13</td>\n",
       "      <td>Married-civ-spouse</td>\n",
       "      <td>Exec-managerial</td>\n",
       "      <td>Husband</td>\n",
       "      <td>White</td>\n",
       "      <td>Male</td>\n",
       "      <td>0</td>\n",
       "      <td>0</td>\n",
       "      <td>13</td>\n",
       "      <td>United-States</td>\n",
       "      <td>&lt;=50K</td>\n",
       "    </tr>\n",
       "    <tr>\n",
       "      <th>2</th>\n",
       "      <td>38</td>\n",
       "      <td>Private</td>\n",
       "      <td>215646</td>\n",
       "      <td>HS-grad</td>\n",
       "      <td>9</td>\n",
       "      <td>Divorced</td>\n",
       "      <td>Handlers-cleaners</td>\n",
       "      <td>Not-in-family</td>\n",
       "      <td>White</td>\n",
       "      <td>Male</td>\n",
       "      <td>0</td>\n",
       "      <td>0</td>\n",
       "      <td>40</td>\n",
       "      <td>United-States</td>\n",
       "      <td>&lt;=50K</td>\n",
       "    </tr>\n",
       "    <tr>\n",
       "      <th>3</th>\n",
       "      <td>53</td>\n",
       "      <td>Private</td>\n",
       "      <td>234721</td>\n",
       "      <td>11th</td>\n",
       "      <td>7</td>\n",
       "      <td>Married-civ-spouse</td>\n",
       "      <td>Handlers-cleaners</td>\n",
       "      <td>Husband</td>\n",
       "      <td>Black</td>\n",
       "      <td>Male</td>\n",
       "      <td>0</td>\n",
       "      <td>0</td>\n",
       "      <td>40</td>\n",
       "      <td>United-States</td>\n",
       "      <td>&lt;=50K</td>\n",
       "    </tr>\n",
       "    <tr>\n",
       "      <th>4</th>\n",
       "      <td>28</td>\n",
       "      <td>Private</td>\n",
       "      <td>338409</td>\n",
       "      <td>Bachelors</td>\n",
       "      <td>13</td>\n",
       "      <td>Married-civ-spouse</td>\n",
       "      <td>Prof-specialty</td>\n",
       "      <td>Wife</td>\n",
       "      <td>Black</td>\n",
       "      <td>Female</td>\n",
       "      <td>0</td>\n",
       "      <td>0</td>\n",
       "      <td>40</td>\n",
       "      <td>Cuba</td>\n",
       "      <td>&lt;=50K</td>\n",
       "    </tr>\n",
       "  </tbody>\n",
       "</table>\n",
       "</div>"
      ],
      "text/plain": [
       "   age          workclass  final-weight   education  education-num  \\\n",
       "0   39          State-gov         77516   Bachelors             13   \n",
       "1   50   Self-emp-not-inc         83311   Bachelors             13   \n",
       "2   38            Private        215646     HS-grad              9   \n",
       "3   53            Private        234721        11th              7   \n",
       "4   28            Private        338409   Bachelors             13   \n",
       "\n",
       "        marital-status          occupation    relationship    race      sex  \\\n",
       "0        Never-married        Adm-clerical   Not-in-family   White     Male   \n",
       "1   Married-civ-spouse     Exec-managerial         Husband   White     Male   \n",
       "2             Divorced   Handlers-cleaners   Not-in-family   White     Male   \n",
       "3   Married-civ-spouse   Handlers-cleaners         Husband   Black     Male   \n",
       "4   Married-civ-spouse      Prof-specialty            Wife   Black   Female   \n",
       "\n",
       "   capital-gain  capital-loos  hour-per-week  native-country  income  \n",
       "0          2174             0             40   United-States   <=50K  \n",
       "1             0             0             13   United-States   <=50K  \n",
       "2             0             0             40   United-States   <=50K  \n",
       "3             0             0             40   United-States   <=50K  \n",
       "4             0             0             40            Cuba   <=50K  "
      ]
     },
     "execution_count": 4,
     "metadata": {},
     "output_type": "execute_result"
    }
   ],
   "source": [
    "df1 = pd.read_csv('..\\data\\census.csv')\n",
    "df_shape = df1.shape \n",
    "print('Rows: {}\\nCols: {}'.format(df_shape[0], df_shape[1]))\n",
    "df1.head()"
   ]
  },
  {
   "cell_type": "markdown",
   "metadata": {
    "heading_collapsed": true
   },
   "source": [
    "# 2 - DATA TRANSFORMATION"
   ]
  },
  {
   "cell_type": "code",
   "execution_count": 5,
   "metadata": {
    "ExecuteTime": {
     "end_time": "2020-12-10T14:57:31.154433Z",
     "start_time": "2020-12-10T14:57:31.144488Z"
    },
    "hidden": true
   },
   "outputs": [],
   "source": [
    "df2 = df1.copy()"
   ]
  },
  {
   "cell_type": "code",
   "execution_count": 6,
   "metadata": {
    "ExecuteTime": {
     "end_time": "2020-12-10T14:57:31.593988Z",
     "start_time": "2020-12-10T14:57:31.566061Z"
    },
    "hidden": true
   },
   "outputs": [
    {
     "data": {
      "text/plain": [
       "array([0, 1], dtype=int64)"
      ]
     },
     "execution_count": 6,
     "metadata": {},
     "output_type": "execute_result"
    }
   ],
   "source": [
    "# change target variable content to 0 or 1\n",
    "df2['income'] = df2['income'].apply( lambda x: 1 if x==' >50K' else 0)\n",
    "df2['income'].unique()"
   ]
  },
  {
   "cell_type": "markdown",
   "metadata": {
    "heading_collapsed": true
   },
   "source": [
    "# 3 - CREATE TRAIN & TEST DATASET"
   ]
  },
  {
   "cell_type": "code",
   "execution_count": 7,
   "metadata": {
    "ExecuteTime": {
     "end_time": "2020-12-10T14:57:33.476471Z",
     "start_time": "2020-12-10T14:57:33.333650Z"
    },
    "hidden": true
   },
   "outputs": [],
   "source": [
    "X = df2.drop('income',axis=1)\n",
    "y = df2.income"
   ]
  },
  {
   "cell_type": "code",
   "execution_count": 8,
   "metadata": {
    "ExecuteTime": {
     "end_time": "2020-12-10T14:57:34.477992Z",
     "start_time": "2020-12-10T14:57:34.463032Z"
    },
    "hidden": true
   },
   "outputs": [],
   "source": [
    "X_train, X_test, y_train, y_test = train_test_split(X, y, test_size=0.3)"
   ]
  },
  {
   "cell_type": "markdown",
   "metadata": {
    "ExecuteTime": {
     "end_time": "2020-11-25T22:36:50.767109Z",
     "start_time": "2020-11-25T22:36:50.762155Z"
    }
   },
   "source": [
    "# 5 - DENSE NEURAL NETWORK CLASSIFIER MODEL"
   ]
  },
  {
   "cell_type": "markdown",
   "metadata": {
    "ExecuteTime": {
     "end_time": "2020-11-25T22:36:50.767109Z",
     "start_time": "2020-11-25T22:36:50.762155Z"
    }
   },
   "source": [
    "## 5.1 - Create Tensors Categorical Features"
   ]
  },
  {
   "cell_type": "code",
   "execution_count": 9,
   "metadata": {
    "ExecuteTime": {
     "end_time": "2020-12-10T14:57:40.525594Z",
     "start_time": "2020-12-10T14:57:38.655138Z"
    }
   },
   "outputs": [
    {
     "data": {
      "image/png": "[encoded data removed]",
      "text/plain": [
       "<Figure size 432x288 with 1 Axes>"
      ]
     },
     "metadata": {
      "needs_background": "light"
     },
     "output_type": "display_data"
    }
   ],
   "source": [
    "df2.age.hist();"
   ]
  },
  {
   "cell_type": "code",
   "execution_count": 39,
   "metadata": {
    "ExecuteTime": {
     "end_time": "2020-12-10T18:56:24.906126Z",
     "start_time": "2020-12-10T18:56:24.871218Z"
    }
   },
   "outputs": [],
   "source": [
    "# Create Tensors Variables, using categorical_column_with_hash_bucket, used for large amount of categories\n",
    "\n",
    "workclass      = tf.feature_column.categorical_column_with_hash_bucket( key = 'workclass',      hash_bucket_size = 100)\n",
    "education      = tf.feature_column.categorical_column_with_hash_bucket( key = 'education',      hash_bucket_size = 100)\n",
    "marital_status = tf.feature_column.categorical_column_with_hash_bucket( key = 'marital-status', hash_bucket_size = 100)\n",
    "occupation     = tf.feature_column.categorical_column_with_hash_bucket( key = 'occupation',     hash_bucket_size = 100)\n",
    "relationship   = tf.feature_column.categorical_column_with_hash_bucket( key = 'relationship',   hash_bucket_size = 100)\n",
    "race           = tf.feature_column.categorical_column_with_hash_bucket( key = 'race',           hash_bucket_size = 100)\n",
    "country        = tf.feature_column.categorical_column_with_hash_bucket( key = 'native-country', hash_bucket_size = 100)"
   ]
  },
  {
   "cell_type": "code",
   "execution_count": 40,
   "metadata": {
    "ExecuteTime": {
     "end_time": "2020-12-10T18:56:26.187909Z",
     "start_time": "2020-12-10T18:56:26.183921Z"
    }
   },
   "outputs": [],
   "source": [
    "# Create Tensors Variables, using categorical_column_with_hash_bucket, used for small amount of categories\n",
    "sex = tf.feature_column.categorical_column_with_vocabulary_list( key = 'sex', vocabulary_list = [' Male', ' Female'] )"
   ]
  },
  {
   "cell_type": "markdown",
   "metadata": {
    "ExecuteTime": {
     "end_time": "2020-11-25T22:36:50.767109Z",
     "start_time": "2020-11-25T22:36:50.762155Z"
    }
   },
   "source": [
    "## 5.2 - Transform Categorical Features to Embedding Columns"
   ]
  },
  {
   "cell_type": "code",
   "execution_count": 41,
   "metadata": {
    "ExecuteTime": {
     "end_time": "2020-12-10T18:56:32.018529Z",
     "start_time": "2020-12-10T18:56:31.965713Z"
    }
   },
   "outputs": [],
   "source": [
    "workclass_embedding      = tf.feature_column.embedding_column(workclass,      len( df2.workclass.unique() )     )\n",
    "education_embedding      = tf.feature_column.embedding_column(education,      len( df2.education.unique() )     )\n",
    "marital_status_embedding = tf.feature_column.embedding_column(marital_status, len( df2['marital-status'].unique() ))\n",
    "occupation_embedding     = tf.feature_column.embedding_column(occupation,     len( df2.occupation.unique() )    )\n",
    "relationship_embedding   = tf.feature_column.embedding_column(relationship,   len( df2.relationship.unique() )  )\n",
    "race_embedding           = tf.feature_column.embedding_column(race,           len( df2.race.unique() )          )\n",
    "country_embedding        = tf.feature_column.embedding_column(country,        len( df2['native-country'].unique() )       )\n",
    "sex_embedding            = tf.feature_column.embedding_column(sex,            len( df2.sex.unique() )           )"
   ]
  },
  {
   "cell_type": "markdown",
   "metadata": {
    "ExecuteTime": {
     "end_time": "2020-11-25T22:36:50.767109Z",
     "start_time": "2020-11-25T22:36:50.762155Z"
    }
   },
   "source": [
    "## 5.3 - Standardized Numeric Features"
   ]
  },
  {
   "cell_type": "code",
   "execution_count": 61,
   "metadata": {
    "ExecuteTime": {
     "end_time": "2020-12-10T20:51:54.105220Z",
     "start_time": "2020-12-10T20:51:53.722898Z"
    }
   },
   "outputs": [],
   "source": [
    "def age_standard(value):\n",
    "    return tf.divide( tf.subtract( tf.cast( value, tf.float32 ), tf.constant( df2.age.mean() ) ), tf.constant( df2.age.std() ) ) \n",
    "\n",
    "def final_weight_standard(value):\n",
    "    return tf.divide( tf.subtract( tf.cast( value, tf.float32 ), tf.constant( df2['final-weight'].mean() ) ), tf.constant( df2['final-weight'].std() ) ) \n",
    "\n",
    "def education_num_standard(value):\n",
    "    return tf.divide( tf.subtract( tf.cast( value, tf.float32 ), tf.constant( df2['education-num'].mean() ) ), tf.constant( df2['education-num'].std() ) ) \n",
    "\n",
    "def capital_gain_standard(value):\n",
    "    return tf.divide( tf.subtract( tf.cast( value, tf.float32 ), tf.constant( df2['capital-gain'].mean() ) ), tf.constant( df2['capital-gain'].std() ) ) \n",
    "\n",
    "def capital_loos_standard(value):\n",
    "    return tf.divide( tf.subtract( tf.cast( value, tf.float32 ), tf.constant( df2['capital-loos'].mean() ) ), tf.constant( df2['capital-loos'].std() ) ) \n",
    "\n",
    "def hour_standard(value):\n",
    "    return tf.divide( tf.subtract( tf.cast( value, tf.float32 ), tf.constant( df2['hour-per-week'].mean() ) ), tf.constant( df2['hour-per-week'].std() ) ) \n",
    "\n"
   ]
  },
  {
   "cell_type": "markdown",
   "metadata": {
    "ExecuteTime": {
     "end_time": "2020-11-25T22:36:50.767109Z",
     "start_time": "2020-11-25T22:36:50.762155Z"
    }
   },
   "source": [
    "## 5.4 - Create Tensors Numeric Features"
   ]
  },
  {
   "cell_type": "code",
   "execution_count": 63,
   "metadata": {
    "ExecuteTime": {
     "end_time": "2020-12-10T20:52:50.431426Z",
     "start_time": "2020-12-10T20:52:50.425410Z"
    }
   },
   "outputs": [],
   "source": [
    "age           = tf.feature_column.numeric_column( key='age',           normalizer_fn = age_standard )\n",
    "final_weight  = tf.feature_column.numeric_column( key='final-weight',  normalizer_fn = final_weight_standard )\n",
    "education_num = tf.feature_column.numeric_column( key='education-num', normalizer_fn = education_num_standard )\n",
    "capital_gain  = tf.feature_column.numeric_column( key='capital-gain',  normalizer_fn = capital_gain_standard )\n",
    "capital_loos  = tf.feature_column.numeric_column( key='capital-loos',  normalizer_fn = capital_loos_standard )\n",
    "hour          = tf.feature_column.numeric_column( key='hour-per-week', normalizer_fn = hour_standard )"
   ]
  },
  {
   "cell_type": "code",
   "execution_count": 64,
   "metadata": {
    "ExecuteTime": {
     "end_time": "2020-12-10T20:52:51.167909Z",
     "start_time": "2020-12-10T20:52:51.138029Z"
    }
   },
   "outputs": [],
   "source": [
    "model_columns = [age, workclass_embedding, final_weight, education_embedding, education_num, marital_status_embedding,\n",
    "                 occupation_embedding, relationship_embedding, race_embedding, sex_embedding, capital_gain, capital_loos,\n",
    "                 hour, country_embedding ]"
   ]
  },
  {
   "cell_type": "markdown",
   "metadata": {
    "ExecuteTime": {
     "end_time": "2020-11-25T22:36:50.767109Z",
     "start_time": "2020-11-25T22:36:50.762155Z"
    }
   },
   "source": [
    "## 5.5 - Create Classifier"
   ]
  },
  {
   "cell_type": "code",
   "execution_count": null,
   "metadata": {
    "ExecuteTime": {
     "end_time": "2020-12-10T20:52:52.956727Z",
     "start_time": "2020-12-10T20:52:52.492725Z"
    }
   },
   "outputs": [],
   "source": [
    "dnn_model = tf.estimator.DNNClassifier(hidden_units=[8, 8], feature_columns=model_columns, n_classes=2)"
   ]
  },
  {
   "cell_type": "markdown",
   "metadata": {
    "ExecuteTime": {
     "end_time": "2020-11-25T22:36:50.767109Z",
     "start_time": "2020-11-25T22:36:50.762155Z"
    }
   },
   "source": [
    "## 5.6 - Create Train and Test Function "
   ]
  },
  {
   "cell_type": "code",
   "execution_count": 67,
   "metadata": {
    "ExecuteTime": {
     "end_time": "2020-12-10T20:53:15.998142Z",
     "start_time": "2020-12-10T20:53:15.989138Z"
    }
   },
   "outputs": [],
   "source": [
    "function_train = tf.estimator.inputs.pandas_input_fn( x=X_train, y=y_train, batch_size=32, num_epochs=None, shuffle=True )"
   ]
  },
  {
   "cell_type": "code",
   "execution_count": 68,
   "metadata": {
    "ExecuteTime": {
     "end_time": "2020-12-10T20:53:17.329613Z",
     "start_time": "2020-12-10T20:53:17.243514Z"
    }
   },
   "outputs": [],
   "source": [
    "function_test = tf.estimator.inputs.pandas_input_fn( x=X_test, y=y_test, batch_size=32, num_epochs=1000, shuffle=False )"
   ]
  },
  {
   "cell_type": "markdown",
   "metadata": {
    "ExecuteTime": {
     "end_time": "2020-11-25T22:36:50.767109Z",
     "start_time": "2020-11-25T22:36:50.762155Z"
    }
   },
   "source": [
    "## 5.7 - Model Training"
   ]
  },
  {
   "cell_type": "code",
   "execution_count": null,
   "metadata": {
    "ExecuteTime": {
     "end_time": "2020-12-10T20:53:56.212077Z",
     "start_time": "2020-12-10T20:53:19.574113Z"
    }
   },
   "outputs": [],
   "source": [
    "dnn_model.train( input_fn=function_train, steps=10000 )"
   ]
  },
  {
   "cell_type": "markdown",
   "metadata": {
    "ExecuteTime": {
     "end_time": "2020-11-25T22:36:50.767109Z",
     "start_time": "2020-11-25T22:36:50.762155Z"
    }
   },
   "source": [
    "## 5.8 - Model Evaluation"
   ]
  },
  {
   "cell_type": "code",
   "execution_count": null,
   "metadata": {
    "ExecuteTime": {
     "end_time": "2020-12-10T21:10:24.286987Z",
     "start_time": "2020-12-10T21:10:02.632684Z"
    },
    "scrolled": true
   },
   "outputs": [],
   "source": [
    "test_metrics = dnn_model.evaluate( input_fn = function_test, steps=10000 )"
   ]
  },
  {
   "cell_type": "code",
   "execution_count": 82,
   "metadata": {
    "ExecuteTime": {
     "end_time": "2020-12-10T21:10:39.618858Z",
     "start_time": "2020-12-10T21:10:39.612875Z"
    }
   },
   "outputs": [
    {
     "data": {
      "text/plain": [
       "{'accuracy': 0.8568531,\n",
       " 'accuracy_baseline': 0.7624781,\n",
       " 'auc': 0.9131184,\n",
       " 'auc_precision_recall': 0.7788461,\n",
       " 'average_loss': 0.307649,\n",
       " 'label/mean': 0.23752187,\n",
       " 'loss': 9.844768,\n",
       " 'precision': 0.75190175,\n",
       " 'prediction/mean': 0.22649331,\n",
       " 'recall': 0.592998,\n",
       " 'global_step': 10000}"
      ]
     },
     "execution_count": 82,
     "metadata": {},
     "output_type": "execute_result"
    }
   ],
   "source": [
    "test_metrics"
   ]
  },
  {
   "cell_type": "markdown",
   "metadata": {
    "ExecuteTime": {
     "end_time": "2020-11-25T22:36:50.767109Z",
     "start_time": "2020-11-25T22:36:50.762155Z"
    }
   },
   "source": [
    "# 6 - MODEL PREDICTION"
   ]
  },
  {
   "cell_type": "code",
   "execution_count": 74,
   "metadata": {
    "ExecuteTime": {
     "end_time": "2020-12-10T20:57:15.051281Z",
     "start_time": "2020-12-10T20:57:15.046295Z"
    }
   },
   "outputs": [],
   "source": [
    "# Create prediction function\n",
    "function_predict = tf.estimator.inputs.pandas_input_fn( x=X_test, shuffle=False )"
   ]
  },
  {
   "cell_type": "code",
   "execution_count": 75,
   "metadata": {
    "ExecuteTime": {
     "end_time": "2020-12-10T20:57:16.977785Z",
     "start_time": "2020-12-10T20:57:16.970769Z"
    }
   },
   "outputs": [],
   "source": [
    "y_predict = dnn_model.predict( input_fn = function_predict )"
   ]
  },
  {
   "cell_type": "code",
   "execution_count": null,
   "metadata": {
    "ExecuteTime": {
     "end_time": "2020-12-10T20:57:28.778181Z",
     "start_time": "2020-12-10T20:57:26.863179Z"
    }
   },
   "outputs": [],
   "source": [
    "y_predict_values = []\n",
    "for p in dnn_model.predict( input_fn = function_predict ):\n",
    "    y_predict_values.append(p['class_ids'])"
   ]
  },
  {
   "cell_type": "code",
   "execution_count": 87,
   "metadata": {
    "ExecuteTime": {
     "end_time": "2020-12-10T21:13:49.030037Z",
     "start_time": "2020-12-10T21:13:49.003113Z"
    }
   },
   "outputs": [
    {
     "data": {
      "text/plain": [
       "0.8567918927218753"
      ]
     },
     "execution_count": 87,
     "metadata": {},
     "output_type": "execute_result"
    }
   ],
   "source": [
    "acc_score = accuracy_score( y_test, y_predict_values )\n",
    "acc_score"
   ]
  },
  {
   "cell_type": "code",
   "execution_count": 89,
   "metadata": {
    "ExecuteTime": {
     "end_time": "2020-12-10T21:14:32.790811Z",
     "start_time": "2020-12-10T21:14:32.587621Z"
    }
   },
   "outputs": [
    {
     "data": {
      "text/plain": [
       "array([[6995,  454],\n",
       "       [ 945, 1375]], dtype=int64)"
      ]
     },
     "execution_count": 89,
     "metadata": {},
     "output_type": "execute_result"
    }
   ],
   "source": [
    "# Consufion Matrix\n",
    "cm = confusion_matrix(y_test, y_predict_values)\n",
    "cm"
   ]
  }
 ],
 "metadata": {
  "kernelspec": {
   "display_name": "Python 3",
   "language": "python",
   "name": "python3"
  },
  "language_info": {
   "codemirror_mode": {
    "name": "ipython",
    "version": 3
   },
   "file_extension": ".py",
   "mimetype": "text/x-python",
   "name": "python",
   "nbconvert_exporter": "python",
   "pygments_lexer": "ipython3",
   "version": "3.7.9"
  }
 },
 "nbformat": 4,
 "nbformat_minor": 2
}
